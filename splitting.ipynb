{
 "cells": [
  {
   "cell_type": "code",
   "execution_count": 1,
   "metadata": {},
   "outputs": [],
   "source": [
    "import os\n",
    "from shutil import copyfile\n",
    "\n",
    "class DataSplitter:\n",
    "    def __init__(self, part):\n",
    "        self.part = part\n",
    "\n",
    "    def split(self, folder, train, test):\n",
    "        filenames = os.listdir(folder)\n",
    "        for (i, fname) in enumerate(filenames):\n",
    "            src = os.path.join(folder, fname)\n",
    "            if (i % self.part) == 0:\n",
    "                dst = os.path.join(test, fname)\n",
    "            else:\n",
    "                dst = os.path.join(train, fname)\n",
    "            copyfile(src, dst)\n",
    "            "
   ]
  },
  {
   "cell_type": "code",
   "execution_count": 17,
   "metadata": {},
   "outputs": [],
   "source": [
    " ds = DataSplitter(20)\n",
    "ds.split(r\"C:\\Users\\Acer\\OneDrive - University of Venda\\Documents\\age\\Old 51-66\",r\"C:\\Users\\Acer\\OneDrive - University of Venda\\Documents\\age\\Old 51-66 training\" , r\"C:\\Users\\Acer\\OneDrive - University of Venda\\Documents\\age\\Old 51-66 testing\",)\n",
    "       "
   ]
  },
  {
   "cell_type": "code",
   "execution_count": 19,
   "metadata": {},
   "outputs": [],
   "source": [
    "import numpy as np\n",
    "from keras.preprocessing.image import img_to_array\n",
    "\n",
    "class AgeEstimator:\n",
    "    def __init__(self, converters, net):\n",
    "        self.converters = converters\n",
    "        self.net = net\n",
    "        \n",
    "    def estimate(self, image):\n",
    "        for (i, converter) in enumerate(self.converters):\n",
    "            image = converter.convert(image)    \n",
    "        array = img_to_array(image, data_format=\"channels_last\")\n",
    "        \n",
    "        arrays = []\n",
    "        arrays.append(array)\n",
    "        data = np.array(arrays).astype(\"float\")/255.0  \n",
    "        \n",
    "        prob =  self.net.predict(data)\n",
    "        classes = prob.argmax(axis=1)\n",
    "        class_num = classes[0]\n",
    "        \n",
    "        return class_num"
   ]
  },
  {
   "cell_type": "code",
   "execution_count": null,
   "metadata": {},
   "outputs": [],
   "source": []
  }
 ],
 "metadata": {
  "kernelspec": {
   "display_name": "Python 3",
   "language": "python",
   "name": "python3"
  },
  "language_info": {
   "codemirror_mode": {
    "name": "ipython",
    "version": 3
   },
   "file_extension": ".py",
   "mimetype": "text/x-python",
   "name": "python",
   "nbconvert_exporter": "python",
   "pygments_lexer": "ipython3",
   "version": "3.8.3"
  }
 },
 "nbformat": 4,
 "nbformat_minor": 4
}
